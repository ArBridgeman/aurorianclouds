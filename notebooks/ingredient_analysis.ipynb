{
 "cells": [
  {
   "cell_type": "code",
   "execution_count": 2,
   "outputs": [],
   "source": [
    "import sys\n",
    "import pathlib\n",
    "from hydra import compose, initialize\n",
    "import numpy as np\n",
    "import datetime\n"
   ],
   "metadata": {
    "collapsed": false,
    "pycharm": {
     "name": "#%%\n"
    }
   }
  },
  {
   "cell_type": "code",
   "execution_count": 3,
   "outputs": [],
   "source": [
    "sys.path[-1] = sys.path[-1] + \"/sous_chef\""
   ],
   "metadata": {
    "collapsed": false,
    "pycharm": {
     "name": "#%%\n"
    }
   }
  },
  {
   "cell_type": "code",
   "execution_count": 4,
   "metadata": {
    "collapsed": true
   },
   "outputs": [],
   "source": [
    "from sous_chef.recipe_book.read_recipe_book import RecipeBook\n"
   ]
  },
  {
   "cell_type": "code",
   "execution_count": 5,
   "outputs": [],
   "source": [
    "def get_recipe_book():\n",
    "    with initialize(config_path=\"../sous_chef/config/\"):\n",
    "        config = compose(config_name=\"grocery_list\")\n",
    "        return RecipeBook(config.recipe_book)\n",
    "\n"
   ],
   "metadata": {
    "collapsed": false,
    "pycharm": {
     "name": "#%%\n"
    }
   }
  },
  {
   "cell_type": "code",
   "execution_count": 6,
   "outputs": [],
   "source": [
    "recipes = get_recipe_book()"
   ],
   "metadata": {
    "collapsed": false,
    "pycharm": {
     "name": "#%%\n"
    }
   }
  },
  {
   "cell_type": "code",
   "execution_count": 7,
   "outputs": [
    {
     "data": {
      "text/plain": "RecipeBook(config={'path': './Dropbox/SharedApps/RecetteTek', 'file_pattern': 'recipes*.json', 'deduplicate': True, 'fuzzy_match': {'limit_number_results': 1, 'warn': True, 'min_thresh_ok_match': 75, 'min_thresh_to_accept': 95}}, dataframe=                                     title preparationTime     cookingTime  \\\n174    Tarte flambée alsacienne au gruyère 0 days 00:30:00 0 days 00:30:00   \n166                      Flammkuchen dough 0 days 00:20:00             NaT   \n364                     Honey roasted nuts 0 days 00:05:00 0 days 00:30:00   \n271                       White wine sauce 0 days 00:02:00 0 days 00:05:00   \n254                       Char siu chicken 0 days 00:05:00 0 days 00:16:00   \n..                                     ...             ...             ...   \n172                     Flourless pancakes             NaT             NaT   \n171                        Flour Tortillas 0 days 00:07:00 0 days 00:15:00   \n168             Flatbread of the Peninsula 0 days 00:05:00 0 days 00:15:00   \n167  Flank Steak with Goat Cheese on Toast 0 days 00:10:00 0 days 00:15:00   \n293                       stovetop cleaner             NaT             NaT   \n\n          totalTime                                        ingredients  \\\n174 0 days 01:00:00  # 1 Flammkuchen dough\\n\\n2 onions (julienned)\\...   \n166 0 days 00:20:00  [YEAST]\\n125 ml water\\n200 ml beer\\n1 pkg yeas...   \n364 0 days 00:35:00  [FLAVOR]\\n1 tbsp butter (melted)\\n0.5 tbsp hon...   \n271 0 days 00:07:00  1-2 tbsp butter\\n1 small onion, diced\\n2-3 gar...   \n254 0 days 00:21:00  400 g chicken breasts (chunked)\\n# 0.75 cup Ch...   \n..              ...                                                ...   \n172             NaT  45 g rolled oats\\r\\n1 medium banana, ~90g peel...   \n171 0 days 00:22:00  1 cup flour\\n1/4 tsp salt\\n1/4 tsp baking soda...   \n168 0 days 00:20:00  1 cup Atta*\\r\\n0.5 cup milk, water,  or yogurt...   \n167 0 days 00:25:00  1 tablespoon smoked paprika\\n2 teaspoons red c...   \n293             NaT  one teaspoon baking soda\\r\\nadd enough of the ...   \n\n                                          instructions  rating  favorite  \\\n174  Prepare Flammkuchen dough.\\n\\nMeanwhile, saute...     5.0      True   \n166  Mix YEAST and let sit 10 minutes. Then mix wit...     5.0     False   \n364  Preheat oven to 150°C. \\n\\nMix nuts & FLAVOR i...     5.0     False   \n271  1. Melt butter in pan and saute onion over med...     5.0      True   \n254  Transfer # 0.5 cup Char siu sauce to a bowl to...     4.5     False   \n..                                                 ...     ...       ...   \n172  1. Grease a skillet VERY well so the pancakes ...     0.0     False   \n171  Add the first four dry ingredients to a large ...     0.0     False   \n168  [Preparation]\\r\\n1. Mix all ingredients & knea...     0.0     False   \n167  1. In a resealable bag, mix together the papri...     0.0     False   \n293  Apply to the stovetop, and using a mildly abra...     0.0     False   \n\n                       categories               quantity  \\\n174         [Entree/carb-protein]          2 flammkuchen   \n166                       [Dough]          2 flammkuchen   \n364                [Snack, Basic]               5 snacks   \n271                 [Sauce & dip]           2-3 servings   \n254              [Entree/protein]                    nan   \n..                            ...                    ...   \n172                            []                      1   \n171                       [Dough]  Servings: 6 tortillas   \n168            [Dough, Side/carb]          for 2 wizards   \n167  [Snack, Entree/carb-protein]                      6   \n293                     [Cleaner]                    nan   \n\n                                                  tags           uuid  \n174  [protein/milk, cuisine/German, cuisine/French,...      102350609  \n166                   [cuisine/German, cuisine/French]     -378635676  \n364          [protein/plant, snack/nut_mix, salad/bar]     -227673353  \n271                                     [protein/milk]     1695610024  \n254                 [protein/poultry, cuisine/Chinese]  1642354801092  \n..                                                 ...            ...  \n172                                                 []    -1407986850  \n171                                  [cuisine/Mexican]     1771368420  \n168                [cuisine/Indian, label/fantasyClub]      101732759  \n167       [protein/beef, cuisine/Spanish, snack/toast]      258703077  \n293                                                 []      985716999  \n\n[1473 rows x 12 columns])"
     },
     "execution_count": 7,
     "metadata": {},
     "output_type": "execute_result"
    }
   ],
   "source": [
    "recipes"
   ],
   "metadata": {
    "collapsed": false,
    "pycharm": {
     "name": "#%%\n"
    }
   }
  },
  {
   "cell_type": "code",
   "execution_count": 8,
   "outputs": [
    {
     "data": {
      "text/plain": "(1473, 12)"
     },
     "execution_count": 8,
     "metadata": {},
     "output_type": "execute_result"
    }
   ],
   "source": [
    "recipes.dataframe.shape"
   ],
   "metadata": {
    "collapsed": false,
    "pycharm": {
     "name": "#%%\n"
    }
   }
  },
  {
   "cell_type": "code",
   "execution_count": 9,
   "outputs": [],
   "source": [
    "all_recipes = recipes.dataframe"
   ],
   "metadata": {
    "collapsed": false,
    "pycharm": {
     "name": "#%%\n"
    }
   }
  },
  {
   "cell_type": "code",
   "execution_count": 10,
   "outputs": [
    {
     "data": {
      "text/plain": "                                   title preparationTime     cookingTime  \\\n174  Tarte flambée alsacienne au gruyère 0 days 00:30:00 0 days 00:30:00   \n166                    Flammkuchen dough 0 days 00:20:00             NaT   \n364                   Honey roasted nuts 0 days 00:05:00 0 days 00:30:00   \n271                     White wine sauce 0 days 00:02:00 0 days 00:05:00   \n254                     Char siu chicken 0 days 00:05:00 0 days 00:16:00   \n\n          totalTime                                        ingredients  \\\n174 0 days 01:00:00  # 1 Flammkuchen dough\\n\\n2 onions (julienned)\\...   \n166 0 days 00:20:00  [YEAST]\\n125 ml water\\n200 ml beer\\n1 pkg yeas...   \n364 0 days 00:35:00  [FLAVOR]\\n1 tbsp butter (melted)\\n0.5 tbsp hon...   \n271 0 days 00:07:00  1-2 tbsp butter\\n1 small onion, diced\\n2-3 gar...   \n254 0 days 00:21:00  400 g chicken breasts (chunked)\\n# 0.75 cup Ch...   \n\n                                          instructions  rating  favorite  \\\n174  Prepare Flammkuchen dough.\\n\\nMeanwhile, saute...     5.0      True   \n166  Mix YEAST and let sit 10 minutes. Then mix wit...     5.0     False   \n364  Preheat oven to 150°C. \\n\\nMix nuts & FLAVOR i...     5.0     False   \n271  1. Melt butter in pan and saute onion over med...     5.0      True   \n254  Transfer # 0.5 cup Char siu sauce to a bowl to...     4.5     False   \n\n                categories       quantity  \\\n174  [Entree/carb-protein]  2 flammkuchen   \n166                [Dough]  2 flammkuchen   \n364         [Snack, Basic]       5 snacks   \n271          [Sauce & dip]   2-3 servings   \n254       [Entree/protein]            nan   \n\n                                                  tags           uuid  \n174  [protein/milk, cuisine/German, cuisine/French,...      102350609  \n166                   [cuisine/German, cuisine/French]     -378635676  \n364          [protein/plant, snack/nut_mix, salad/bar]     -227673353  \n271                                     [protein/milk]     1695610024  \n254                 [protein/poultry, cuisine/Chinese]  1642354801092  ",
      "text/html": "<div>\n<style scoped>\n    .dataframe tbody tr th:only-of-type {\n        vertical-align: middle;\n    }\n\n    .dataframe tbody tr th {\n        vertical-align: top;\n    }\n\n    .dataframe thead th {\n        text-align: right;\n    }\n</style>\n<table border=\"1\" class=\"dataframe\">\n  <thead>\n    <tr style=\"text-align: right;\">\n      <th></th>\n      <th>title</th>\n      <th>preparationTime</th>\n      <th>cookingTime</th>\n      <th>totalTime</th>\n      <th>ingredients</th>\n      <th>instructions</th>\n      <th>rating</th>\n      <th>favorite</th>\n      <th>categories</th>\n      <th>quantity</th>\n      <th>tags</th>\n      <th>uuid</th>\n    </tr>\n  </thead>\n  <tbody>\n    <tr>\n      <th>174</th>\n      <td>Tarte flambée alsacienne au gruyère</td>\n      <td>0 days 00:30:00</td>\n      <td>0 days 00:30:00</td>\n      <td>0 days 01:00:00</td>\n      <td># 1 Flammkuchen dough\\n\\n2 onions (julienned)\\...</td>\n      <td>Prepare Flammkuchen dough.\\n\\nMeanwhile, saute...</td>\n      <td>5.0</td>\n      <td>True</td>\n      <td>[Entree/carb-protein]</td>\n      <td>2 flammkuchen</td>\n      <td>[protein/milk, cuisine/German, cuisine/French,...</td>\n      <td>102350609</td>\n    </tr>\n    <tr>\n      <th>166</th>\n      <td>Flammkuchen dough</td>\n      <td>0 days 00:20:00</td>\n      <td>NaT</td>\n      <td>0 days 00:20:00</td>\n      <td>[YEAST]\\n125 ml water\\n200 ml beer\\n1 pkg yeas...</td>\n      <td>Mix YEAST and let sit 10 minutes. Then mix wit...</td>\n      <td>5.0</td>\n      <td>False</td>\n      <td>[Dough]</td>\n      <td>2 flammkuchen</td>\n      <td>[cuisine/German, cuisine/French]</td>\n      <td>-378635676</td>\n    </tr>\n    <tr>\n      <th>364</th>\n      <td>Honey roasted nuts</td>\n      <td>0 days 00:05:00</td>\n      <td>0 days 00:30:00</td>\n      <td>0 days 00:35:00</td>\n      <td>[FLAVOR]\\n1 tbsp butter (melted)\\n0.5 tbsp hon...</td>\n      <td>Preheat oven to 150°C. \\n\\nMix nuts &amp; FLAVOR i...</td>\n      <td>5.0</td>\n      <td>False</td>\n      <td>[Snack, Basic]</td>\n      <td>5 snacks</td>\n      <td>[protein/plant, snack/nut_mix, salad/bar]</td>\n      <td>-227673353</td>\n    </tr>\n    <tr>\n      <th>271</th>\n      <td>White wine sauce</td>\n      <td>0 days 00:02:00</td>\n      <td>0 days 00:05:00</td>\n      <td>0 days 00:07:00</td>\n      <td>1-2 tbsp butter\\n1 small onion, diced\\n2-3 gar...</td>\n      <td>1. Melt butter in pan and saute onion over med...</td>\n      <td>5.0</td>\n      <td>True</td>\n      <td>[Sauce &amp; dip]</td>\n      <td>2-3 servings</td>\n      <td>[protein/milk]</td>\n      <td>1695610024</td>\n    </tr>\n    <tr>\n      <th>254</th>\n      <td>Char siu chicken</td>\n      <td>0 days 00:05:00</td>\n      <td>0 days 00:16:00</td>\n      <td>0 days 00:21:00</td>\n      <td>400 g chicken breasts (chunked)\\n# 0.75 cup Ch...</td>\n      <td>Transfer # 0.5 cup Char siu sauce to a bowl to...</td>\n      <td>4.5</td>\n      <td>False</td>\n      <td>[Entree/protein]</td>\n      <td>nan</td>\n      <td>[protein/poultry, cuisine/Chinese]</td>\n      <td>1642354801092</td>\n    </tr>\n  </tbody>\n</table>\n</div>"
     },
     "execution_count": 10,
     "metadata": {},
     "output_type": "execute_result"
    }
   ],
   "source": [
    "all_recipes.head()"
   ],
   "metadata": {
    "collapsed": false,
    "pycharm": {
     "name": "#%%\n"
    }
   }
  },
  {
   "cell_type": "code",
   "execution_count": 11,
   "outputs": [
    {
     "name": "stdout",
     "output_type": "stream",
     "text": [
      "1.1 litres (2 pints) organic stock (chicken, fish or vegetable, as appropriate) \n",
      "1 large onion \n",
      "2 cloves of garlic \n",
      "4 or 5 sticks of celery \n",
      " olive oil \n",
      "70 g butter plus 1 extra knob for frying\n",
      "400 g risotto rice \n",
      "2 wineglasses of dry white vermouth (dry Martini or Noilly Prat) or dry white wine \n",
      "115 g Parmesan cheese\n"
     ]
    }
   ],
   "source": [
    "print(all_recipes.iloc[np.random.randint(all_recipes.shape[0])][\"ingredients\"])"
   ],
   "metadata": {
    "collapsed": false,
    "pycharm": {
     "name": "#%%\n"
    }
   }
  },
  {
   "cell_type": "code",
   "execution_count": 17,
   "outputs": [],
   "source": [
    "def get_random_ingredient_lines(\n",
    "    n_lines=10, random_seed=datetime.datetime.now().microsecond\n",
    "):\n",
    "    rng = np.random.default_rng(seed=random_seed)\n",
    "    random_lines = []\n",
    "    while len(random_lines) < n_lines:\n",
    "        random_recipe = all_recipes.iloc[\n",
    "            rng.integers(0, high=all_recipes.shape[0])\n",
    "        ][\"ingredients\"]\n",
    "        random_recipe_lines = random_recipe.split(\"\\n\")\n",
    "        # simply discarding groups or other labelling lines for now\n",
    "        random_recipe_lines = [\n",
    "            l.strip(\"\\n\").strip() for l in random_recipe_lines if \"[\" not in l\n",
    "        ]\n",
    "        random_lines.append(\n",
    "            random_recipe_lines[rng.integers(0, high=len(random_recipe_lines))]\n",
    "        )\n",
    "    return random_lines\n",
    "\n"
   ],
   "metadata": {
    "collapsed": false,
    "pycharm": {
     "name": "#%%\n"
    }
   }
  },
  {
   "cell_type": "code",
   "execution_count": 53,
   "outputs": [
    {
     "name": "stdout",
     "output_type": "stream",
     "text": [
      "½ tsp salt\n",
      "8 ounces sliced smoked salmon\n",
      "2 (12-oz.) jars marinated artichoke hearts, drained\n",
      "¼ cup low-fat sour cream\n",
      "1 small batch basil ((or nori sheets) (*Footnote 1))\n",
      "1/2 tsp ground cumin\n",
      "3 tbsp Greek yogurt\n",
      "1 tbsp flax seeds\n",
      "Twenty 1/4-inch-thick slices of brioche\n",
      "1 green or red Thai chile\n"
     ]
    }
   ],
   "source": [
    "print(\n",
    "    \"\\n\".join(\n",
    "        get_random_ingredient_lines(\n",
    "            10, random_seed=datetime.datetime.now().microsecond\n",
    "        )\n",
    "    )\n",
    ")"
   ],
   "metadata": {
    "collapsed": false,
    "pycharm": {
     "name": "#%%\n"
    }
   }
  },
  {
   "cell_type": "code",
   "execution_count": 53,
   "outputs": [],
   "source": [
    "import spacy\n",
    "from spacy import displacy\n",
    "\n",
    "nlp = spacy.load(\"en_core_web_trf\")"
   ],
   "metadata": {
    "collapsed": false,
    "pycharm": {
     "name": "#%%\n"
    }
   }
  },
  {
   "cell_type": "code",
   "execution_count": 54,
   "outputs": [
    {
     "name": "stdout",
     "output_type": "stream",
     "text": [
      "['1.5 pounds baby potatoes (white or red)', '2 tablespoons red salsa', '1 medium onion, minced', 'Pinch of black pepper', '6 hard-boiled large eggs, quartered', '4 (6-ounce) skin-on, boneless red snapper fillets, patted dry', '0.5 tsp baking soda', 'Berries and optional toppings of choice', '4½ teaspoons instant yeast', '1 tablespoon white miso paste (or more to taste)', '4 tsp starch', '6 tablespoons melted butter', '# 1.25 cups Yakitori sauce', \"1/4 cup HERSHEY'S Cocoa or HERSHEY'S SPECIAL DARK Cocoa\", '0.25 tsp white vinegar', 'Lemon wedges', '1\" ginger, minced', '1 romaine lettuce heart (6 ounces), torn into bite-size pieces', '3 cups peanuts', '1 tablespoon butter']\n"
     ]
    }
   ],
   "source": [
    "random_ingredient_lines = get_random_ingredient_lines(20)\n",
    "print(random_ingredient_lines)"
   ],
   "metadata": {
    "collapsed": false,
    "pycharm": {
     "name": "#%%\n"
    }
   }
  },
  {
   "cell_type": "code",
   "execution_count": 55,
   "outputs": [
    {
     "name": "stderr",
     "output_type": "stream",
     "text": [
      "/Users/alexanderschulz/miniconda3/envs/sous_chef_testing_py39/lib/python3.9/site-packages/torch/autocast_mode.py:141: UserWarning: User provided device_type of 'cuda', but CUDA is not available. Disabling\n",
      "  warnings.warn('User provided device_type of \\'cuda\\', but CUDA is not available. Disabling')\n"
     ]
    }
   ],
   "source": [
    "doc = nlp(random_ingredient_lines[0])"
   ],
   "metadata": {
    "collapsed": false,
    "pycharm": {
     "name": "#%%\n"
    }
   }
  },
  {
   "cell_type": "code",
   "execution_count": 56,
   "outputs": [
    {
     "data": {
      "text/plain": "<IPython.core.display.HTML object>",
      "text/html": "<span class=\"tex2jax_ignore\"><div class=\"entities\" style=\"line-height: 2.5; direction: ltr\">\n<mark class=\"entity\" style=\"background: #e4e7d2; padding: 0.45em 0.6em; margin: 0 0.25em; line-height: 1; border-radius: 0.35em;\">\n    1.5 pounds\n    <span style=\"font-size: 0.8em; font-weight: bold; line-height: 1; border-radius: 0.35em; vertical-align: middle; margin-left: 0.5rem\">QUANTITY</span>\n</mark>\n baby potatoes (white or red)</div></span>"
     },
     "metadata": {},
     "output_type": "display_data"
    }
   ],
   "source": [
    "displacy.render(doc, style=\"ent\")"
   ],
   "metadata": {
    "collapsed": false,
    "pycharm": {
     "name": "#%%\n"
    }
   }
  },
  {
   "cell_type": "code",
   "execution_count": 78,
   "outputs": [
    {
     "name": "stderr",
     "output_type": "stream",
     "text": [
      "/Users/alexanderschulz/miniconda3/envs/sous_chef_testing_py39/lib/python3.9/site-packages/torch/autocast_mode.py:141: UserWarning: User provided device_type of 'cuda', but CUDA is not available. Disabling\n",
      "  warnings.warn('User provided device_type of \\'cuda\\', but CUDA is not available. Disabling')\n"
     ]
    },
    {
     "data": {
      "text/plain": "<IPython.core.display.HTML object>",
      "text/html": "<span class=\"tex2jax_ignore\"><div class=\"entities\" style=\"line-height: 2.5; direction: ltr\">\n<mark class=\"entity\" style=\"background: #e4e7d2; padding: 0.45em 0.6em; margin: 0 0.25em; line-height: 1; border-radius: 0.35em;\">\n    1.5 pounds\n    <span style=\"font-size: 0.8em; font-weight: bold; line-height: 1; border-radius: 0.35em; vertical-align: middle; margin-left: 0.5rem\">QUANTITY</span>\n</mark>\n baby potatoes (white or red)</div></span>"
     },
     "metadata": {},
     "output_type": "display_data"
    },
    {
     "data": {
      "text/plain": "<IPython.core.display.HTML object>",
      "text/html": "<span class=\"tex2jax_ignore\"><div class=\"entities\" style=\"line-height: 2.5; direction: ltr\">\n<mark class=\"entity\" style=\"background: #e4e7d2; padding: 0.45em 0.6em; margin: 0 0.25em; line-height: 1; border-radius: 0.35em;\">\n    2 tablespoons\n    <span style=\"font-size: 0.8em; font-weight: bold; line-height: 1; border-radius: 0.35em; vertical-align: middle; margin-left: 0.5rem\">QUANTITY</span>\n</mark>\n red salsa</div></span>"
     },
     "metadata": {},
     "output_type": "display_data"
    },
    {
     "data": {
      "text/plain": "<IPython.core.display.HTML object>",
      "text/html": "<span class=\"tex2jax_ignore\"><div class=\"entities\" style=\"line-height: 2.5; direction: ltr\">\n<mark class=\"entity\" style=\"background: #e4e7d2; padding: 0.45em 0.6em; margin: 0 0.25em; line-height: 1; border-radius: 0.35em;\">\n    1\n    <span style=\"font-size: 0.8em; font-weight: bold; line-height: 1; border-radius: 0.35em; vertical-align: middle; margin-left: 0.5rem\">CARDINAL</span>\n</mark>\n medium onion, minced</div></span>"
     },
     "metadata": {},
     "output_type": "display_data"
    },
    {
     "name": "stderr",
     "output_type": "stream",
     "text": [
      "/Users/alexanderschulz/miniconda3/envs/sous_chef_testing_py39/lib/python3.9/site-packages/spacy/displacy/__init__.py:200: UserWarning: [W006] No entities to visualize found in Doc object. If this is surprising to you, make sure the Doc was processed using a model that supports named entity recognition, and check the `doc.ents` property manually if necessary.\n",
      "  warnings.warn(Warnings.W006)\n"
     ]
    },
    {
     "data": {
      "text/plain": "<IPython.core.display.HTML object>",
      "text/html": "<span class=\"tex2jax_ignore\"><div class=\"entities\" style=\"line-height: 2.5; direction: ltr\">Pinch of black pepper</div></span>"
     },
     "metadata": {},
     "output_type": "display_data"
    },
    {
     "data": {
      "text/plain": "<IPython.core.display.HTML object>",
      "text/html": "<span class=\"tex2jax_ignore\"><div class=\"entities\" style=\"line-height: 2.5; direction: ltr\">\n<mark class=\"entity\" style=\"background: #e4e7d2; padding: 0.45em 0.6em; margin: 0 0.25em; line-height: 1; border-radius: 0.35em;\">\n    6\n    <span style=\"font-size: 0.8em; font-weight: bold; line-height: 1; border-radius: 0.35em; vertical-align: middle; margin-left: 0.5rem\">CARDINAL</span>\n</mark>\n hard-boiled large eggs, quartered</div></span>"
     },
     "metadata": {},
     "output_type": "display_data"
    },
    {
     "data": {
      "text/plain": "<IPython.core.display.HTML object>",
      "text/html": "<span class=\"tex2jax_ignore\"><div class=\"entities\" style=\"line-height: 2.5; direction: ltr\">\n<mark class=\"entity\" style=\"background: #e4e7d2; padding: 0.45em 0.6em; margin: 0 0.25em; line-height: 1; border-radius: 0.35em;\">\n    4\n    <span style=\"font-size: 0.8em; font-weight: bold; line-height: 1; border-radius: 0.35em; vertical-align: middle; margin-left: 0.5rem\">CARDINAL</span>\n</mark>\n (\n<mark class=\"entity\" style=\"background: #e4e7d2; padding: 0.45em 0.6em; margin: 0 0.25em; line-height: 1; border-radius: 0.35em;\">\n    6-ounce\n    <span style=\"font-size: 0.8em; font-weight: bold; line-height: 1; border-radius: 0.35em; vertical-align: middle; margin-left: 0.5rem\">QUANTITY</span>\n</mark>\n) skin-on, boneless red snapper fillets, patted dry</div></span>"
     },
     "metadata": {},
     "output_type": "display_data"
    },
    {
     "data": {
      "text/plain": "<IPython.core.display.HTML object>",
      "text/html": "<span class=\"tex2jax_ignore\"><div class=\"entities\" style=\"line-height: 2.5; direction: ltr\">\n<mark class=\"entity\" style=\"background: #e4e7d2; padding: 0.45em 0.6em; margin: 0 0.25em; line-height: 1; border-radius: 0.35em;\">\n    0.5 tsp\n    <span style=\"font-size: 0.8em; font-weight: bold; line-height: 1; border-radius: 0.35em; vertical-align: middle; margin-left: 0.5rem\">PERCENT</span>\n</mark>\n baking soda</div></span>"
     },
     "metadata": {},
     "output_type": "display_data"
    },
    {
     "data": {
      "text/plain": "<IPython.core.display.HTML object>",
      "text/html": "<span class=\"tex2jax_ignore\"><div class=\"entities\" style=\"line-height: 2.5; direction: ltr\">Berries and optional toppings of choice</div></span>"
     },
     "metadata": {},
     "output_type": "display_data"
    },
    {
     "data": {
      "text/plain": "<IPython.core.display.HTML object>",
      "text/html": "<span class=\"tex2jax_ignore\"><div class=\"entities\" style=\"line-height: 2.5; direction: ltr\">\n<mark class=\"entity\" style=\"background: #e4e7d2; padding: 0.45em 0.6em; margin: 0 0.25em; line-height: 1; border-radius: 0.35em;\">\n    4½\n    <span style=\"font-size: 0.8em; font-weight: bold; line-height: 1; border-radius: 0.35em; vertical-align: middle; margin-left: 0.5rem\">CARDINAL</span>\n</mark>\n teaspoons instant yeast</div></span>"
     },
     "metadata": {},
     "output_type": "display_data"
    },
    {
     "data": {
      "text/plain": "<IPython.core.display.HTML object>",
      "text/html": "<span class=\"tex2jax_ignore\"><div class=\"entities\" style=\"line-height: 2.5; direction: ltr\">\n<mark class=\"entity\" style=\"background: #e4e7d2; padding: 0.45em 0.6em; margin: 0 0.25em; line-height: 1; border-radius: 0.35em;\">\n    1 tablespoon\n    <span style=\"font-size: 0.8em; font-weight: bold; line-height: 1; border-radius: 0.35em; vertical-align: middle; margin-left: 0.5rem\">QUANTITY</span>\n</mark>\n white miso paste (or more to taste)</div></span>"
     },
     "metadata": {},
     "output_type": "display_data"
    },
    {
     "data": {
      "text/plain": "<IPython.core.display.HTML object>",
      "text/html": "<span class=\"tex2jax_ignore\"><div class=\"entities\" style=\"line-height: 2.5; direction: ltr\">\n<mark class=\"entity\" style=\"background: #e4e7d2; padding: 0.45em 0.6em; margin: 0 0.25em; line-height: 1; border-radius: 0.35em;\">\n    4\n    <span style=\"font-size: 0.8em; font-weight: bold; line-height: 1; border-radius: 0.35em; vertical-align: middle; margin-left: 0.5rem\">CARDINAL</span>\n</mark>\n tsp starch</div></span>"
     },
     "metadata": {},
     "output_type": "display_data"
    },
    {
     "data": {
      "text/plain": "<IPython.core.display.HTML object>",
      "text/html": "<span class=\"tex2jax_ignore\"><div class=\"entities\" style=\"line-height: 2.5; direction: ltr\">\n<mark class=\"entity\" style=\"background: #e4e7d2; padding: 0.45em 0.6em; margin: 0 0.25em; line-height: 1; border-radius: 0.35em;\">\n    6 tablespoons\n    <span style=\"font-size: 0.8em; font-weight: bold; line-height: 1; border-radius: 0.35em; vertical-align: middle; margin-left: 0.5rem\">QUANTITY</span>\n</mark>\n melted butter</div></span>"
     },
     "metadata": {},
     "output_type": "display_data"
    },
    {
     "data": {
      "text/plain": "<IPython.core.display.HTML object>",
      "text/html": "<span class=\"tex2jax_ignore\"><div class=\"entities\" style=\"line-height: 2.5; direction: ltr\"># \n<mark class=\"entity\" style=\"background: #e4e7d2; padding: 0.45em 0.6em; margin: 0 0.25em; line-height: 1; border-radius: 0.35em;\">\n    1.25\n    <span style=\"font-size: 0.8em; font-weight: bold; line-height: 1; border-radius: 0.35em; vertical-align: middle; margin-left: 0.5rem\">CARDINAL</span>\n</mark>\n cups Yakitori sauce</div></span>"
     },
     "metadata": {},
     "output_type": "display_data"
    },
    {
     "data": {
      "text/plain": "<IPython.core.display.HTML object>",
      "text/html": "<span class=\"tex2jax_ignore\"><div class=\"entities\" style=\"line-height: 2.5; direction: ltr\">\n<mark class=\"entity\" style=\"background: #e4e7d2; padding: 0.45em 0.6em; margin: 0 0.25em; line-height: 1; border-radius: 0.35em;\">\n    1/4 cup\n    <span style=\"font-size: 0.8em; font-weight: bold; line-height: 1; border-radius: 0.35em; vertical-align: middle; margin-left: 0.5rem\">QUANTITY</span>\n</mark>\n \n<mark class=\"entity\" style=\"background: #bfeeb7; padding: 0.45em 0.6em; margin: 0 0.25em; line-height: 1; border-radius: 0.35em;\">\n    HERSHEY'S\n    <span style=\"font-size: 0.8em; font-weight: bold; line-height: 1; border-radius: 0.35em; vertical-align: middle; margin-left: 0.5rem\">PRODUCT</span>\n</mark>\n Cocoa or \n<mark class=\"entity\" style=\"background: #bfeeb7; padding: 0.45em 0.6em; margin: 0 0.25em; line-height: 1; border-radius: 0.35em;\">\n    HERSHEY'S\n    <span style=\"font-size: 0.8em; font-weight: bold; line-height: 1; border-radius: 0.35em; vertical-align: middle; margin-left: 0.5rem\">PRODUCT</span>\n</mark>\n SPECIAL DARK Cocoa</div></span>"
     },
     "metadata": {},
     "output_type": "display_data"
    },
    {
     "data": {
      "text/plain": "<IPython.core.display.HTML object>",
      "text/html": "<span class=\"tex2jax_ignore\"><div class=\"entities\" style=\"line-height: 2.5; direction: ltr\">\n<mark class=\"entity\" style=\"background: #e4e7d2; padding: 0.45em 0.6em; margin: 0 0.25em; line-height: 1; border-radius: 0.35em;\">\n    0.25 tsp\n    <span style=\"font-size: 0.8em; font-weight: bold; line-height: 1; border-radius: 0.35em; vertical-align: middle; margin-left: 0.5rem\">PERCENT</span>\n</mark>\n white vinegar</div></span>"
     },
     "metadata": {},
     "output_type": "display_data"
    },
    {
     "data": {
      "text/plain": "<IPython.core.display.HTML object>",
      "text/html": "<span class=\"tex2jax_ignore\"><div class=\"entities\" style=\"line-height: 2.5; direction: ltr\">Lemon wedges</div></span>"
     },
     "metadata": {},
     "output_type": "display_data"
    },
    {
     "data": {
      "text/plain": "<IPython.core.display.HTML object>",
      "text/html": "<span class=\"tex2jax_ignore\"><div class=\"entities\" style=\"line-height: 2.5; direction: ltr\">\n<mark class=\"entity\" style=\"background: #e4e7d2; padding: 0.45em 0.6em; margin: 0 0.25em; line-height: 1; border-radius: 0.35em;\">\n    1\n    <span style=\"font-size: 0.8em; font-weight: bold; line-height: 1; border-radius: 0.35em; vertical-align: middle; margin-left: 0.5rem\">CARDINAL</span>\n</mark>\n&quot; ginger, minced</div></span>"
     },
     "metadata": {},
     "output_type": "display_data"
    },
    {
     "data": {
      "text/plain": "<IPython.core.display.HTML object>",
      "text/html": "<span class=\"tex2jax_ignore\"><div class=\"entities\" style=\"line-height: 2.5; direction: ltr\">\n<mark class=\"entity\" style=\"background: #e4e7d2; padding: 0.45em 0.6em; margin: 0 0.25em; line-height: 1; border-radius: 0.35em;\">\n    1\n    <span style=\"font-size: 0.8em; font-weight: bold; line-height: 1; border-radius: 0.35em; vertical-align: middle; margin-left: 0.5rem\">CARDINAL</span>\n</mark>\n romaine lettuce heart (\n<mark class=\"entity\" style=\"background: #e4e7d2; padding: 0.45em 0.6em; margin: 0 0.25em; line-height: 1; border-radius: 0.35em;\">\n    6 ounces\n    <span style=\"font-size: 0.8em; font-weight: bold; line-height: 1; border-radius: 0.35em; vertical-align: middle; margin-left: 0.5rem\">QUANTITY</span>\n</mark>\n), torn into bite-size pieces</div></span>"
     },
     "metadata": {},
     "output_type": "display_data"
    },
    {
     "data": {
      "text/plain": "<IPython.core.display.HTML object>",
      "text/html": "<span class=\"tex2jax_ignore\"><div class=\"entities\" style=\"line-height: 2.5; direction: ltr\">\n<mark class=\"entity\" style=\"background: #e4e7d2; padding: 0.45em 0.6em; margin: 0 0.25em; line-height: 1; border-radius: 0.35em;\">\n    3 cups\n    <span style=\"font-size: 0.8em; font-weight: bold; line-height: 1; border-radius: 0.35em; vertical-align: middle; margin-left: 0.5rem\">QUANTITY</span>\n</mark>\n peanuts</div></span>"
     },
     "metadata": {},
     "output_type": "display_data"
    },
    {
     "data": {
      "text/plain": "<IPython.core.display.HTML object>",
      "text/html": "<span class=\"tex2jax_ignore\"><div class=\"entities\" style=\"line-height: 2.5; direction: ltr\">\n<mark class=\"entity\" style=\"background: #e4e7d2; padding: 0.45em 0.6em; margin: 0 0.25em; line-height: 1; border-radius: 0.35em;\">\n    1\n    <span style=\"font-size: 0.8em; font-weight: bold; line-height: 1; border-radius: 0.35em; vertical-align: middle; margin-left: 0.5rem\">CARDINAL</span>\n</mark>\n tablespoon butter</div></span>"
     },
     "metadata": {},
     "output_type": "display_data"
    }
   ],
   "source": [
    "random_ingredient_lines = get_random_ingredient_lines(20)\n",
    "for line in random_ingredient_lines:\n",
    "    doc = nlp(line)\n",
    "    displacy.render(doc, style=\"ent\")"
   ],
   "metadata": {
    "collapsed": false,
    "pycharm": {
     "name": "#%%\n"
    }
   }
  },
  {
   "cell_type": "code",
   "execution_count": 107,
   "outputs": [
    {
     "name": "stderr",
     "output_type": "stream",
     "text": [
      "/Users/alexanderschulz/miniconda3/envs/sous_chef_testing_py39/lib/python3.9/site-packages/torch/autocast_mode.py:141: UserWarning: User provided device_type of 'cuda', but CUDA is not available. Disabling\n",
      "  warnings.warn('User provided device_type of \\'cuda\\', but CUDA is not available. Disabling')\n"
     ]
    },
    {
     "data": {
      "text/plain": "<IPython.core.display.HTML object>",
      "text/html": "<span class=\"tex2jax_ignore\"><div class=\"entities\" style=\"line-height: 2.5; direction: ltr\">\n<mark class=\"entity\" style=\"background: #e4e7d2; padding: 0.45em 0.6em; margin: 0 0.25em; line-height: 1; border-radius: 0.35em;\">\n    1\n    <span style=\"font-size: 0.8em; font-weight: bold; line-height: 1; border-radius: 0.35em; vertical-align: middle; margin-left: 0.5rem\">CARDINAL</span>\n</mark>\n medium onion, minced</div></span>"
     },
     "metadata": {},
     "output_type": "display_data"
    },
    {
     "name": "stdout",
     "output_type": "stream",
     "text": [
      "1 1 NUM CD nummod d False False 397\n",
      "medium medium ADJ JJ amod xxxx True False 0\n",
      "onion onion NOUN NN ROOT xxxx True False 0\n",
      ", , PUNCT , punct , False False 0\n",
      "minced mince VERB VBN appos xxxx True False 0\n",
      "CARDINAL\n"
     ]
    }
   ],
   "source": [
    "doc = nlp(random_ingredient_lines[2])\n",
    "displacy.render(doc, style=\"ent\")\n",
    "for token in doc:\n",
    "    print(\n",
    "        token.text,\n",
    "        token.lemma_,\n",
    "        token.pos_,\n",
    "        token.tag_,\n",
    "        token.dep_,\n",
    "        token.shape_,\n",
    "        token.is_alpha,\n",
    "        token.is_stop,\n",
    "        token.ent_type,\n",
    "    )\n",
    "for ent in doc.ents:\n",
    "    print(ent.label_)"
   ],
   "metadata": {
    "collapsed": false,
    "pycharm": {
     "name": "#%%\n"
    }
   }
  },
  {
   "cell_type": "code",
   "execution_count": null,
   "outputs": [],
   "source": [
    "list(chunk for chunk in doc.noun_chunks)"
   ],
   "metadata": {
    "collapsed": false,
    "pycharm": {
     "name": "#%%\n"
    }
   }
  },
  {
   "cell_type": "code",
   "execution_count": 88,
   "outputs": [
    {
     "data": {
      "text/plain": "{}"
     },
     "execution_count": 88,
     "metadata": {},
     "output_type": "execute_result"
    }
   ],
   "source": [],
   "metadata": {
    "collapsed": false,
    "pycharm": {
     "name": "#%%\n"
    }
   }
  },
  {
   "cell_type": "code",
   "execution_count": 106,
   "outputs": [
    {
     "data": {
      "text/plain": "('CARDINAL',\n 'DATE',\n 'EVENT',\n 'FAC',\n 'GPE',\n 'LANGUAGE',\n 'LAW',\n 'LOC',\n 'MONEY',\n 'NORP',\n 'ORDINAL',\n 'ORG',\n 'PERCENT',\n 'PERSON',\n 'PRODUCT',\n 'QUANTITY',\n 'TIME',\n 'WORK_OF_ART')"
     },
     "execution_count": 106,
     "metadata": {},
     "output_type": "execute_result"
    }
   ],
   "source": [
    "nlp.get_pipe(\"ner\").labels"
   ],
   "metadata": {
    "collapsed": false,
    "pycharm": {
     "name": "#%%\n"
    }
   }
  },
  {
   "cell_type": "code",
   "execution_count": null,
   "outputs": [],
   "source": [],
   "metadata": {
    "collapsed": false,
    "pycharm": {
     "name": "#%%\n"
    }
   }
  }
 ],
 "metadata": {
  "kernelspec": {
   "display_name": "Python 3",
   "language": "python",
   "name": "python3"
  },
  "language_info": {
   "codemirror_mode": {
    "name": "ipython",
    "version": 2
   },
   "file_extension": ".py",
   "mimetype": "text/x-python",
   "name": "python",
   "nbconvert_exporter": "python",
   "pygments_lexer": "ipython2",
   "version": "2.7.6"
  }
 },
 "nbformat": 4,
 "nbformat_minor": 0
}