{
 "cells": [
  {
   "cell_type": "code",
   "execution_count": 1,
   "outputs": [],
   "source": [
    "from pandas_profiling import ProfileReport\n",
    "from util import get_nutrition_data\n"
   ],
   "metadata": {
    "collapsed": false
   }
  },
  {
   "cell_type": "code",
   "execution_count": 2,
   "outputs": [
    {
     "name": "stdout",
     "output_type": "stream",
     "text": [
      "2022-11-18 19:44.49 [info     ] [get_worksheet]                workbook_name=nutrition worksheet_name=nutrition\n"
     ]
    },
    {
     "data": {
      "text/plain": "         barcode           group    pantry_ingredient         product_name  \\\n0  4046700003756  Dairy products        15% fat cream        LAC Kochsahne   \n1  4046700004234  Dairy products        30% fat cream          Schlagsahne   \n2  4008100120341          Sauces  apple cider vinegar       Bio Apfelessig   \n3  4311501711699          Canned           applesauce             Apfelmus   \n4  4311501356517          Canned     artichoke hearts  Artischocken Herzen   \n\n  quantity        brands completeness nutriscore_grade level_fat level_salt  \\\n0    200 g           LAC       0.6875                d  moderate        low   \n1    200 g           LAC        0.775                d      high        low   \n2    500ml  Hengstenberg        0.775              NaN       low        low   \n3     360g         Edeka       0.6875                a       low        low   \n4    240 g         Edeka       0.6875                a       low   moderate   \n\n  level_saturated_fat level_sugars  per_100g_carbohydrates  \\\n0                high          low                     4.1   \n1                high          low                     3.3   \n2                 low          low                     0.7   \n3                 low     moderate                    12.5   \n4                 low          low                     4.0   \n\n   per_100g_energy_kcal  per_100g_fat  per_100g_fiber  per_100g_proteins  \\\n0                 163.0          15.0             0.0                2.9   \n1                 311.0          32.0             0.0                2.4   \n2                  19.0           0.0             0.0                0.0   \n3                  57.0           0.1             0.0                0.3   \n4                  27.0           0.0             0.0                1.4   \n\n  per_100g_salt  per_100g_saturated_fat  per_100g_sugars  \n0          0.11                    9.40              4.1  \n1          0.08                   20.20              3.3  \n2             0                    0.00              0.0  \n3          0.01                    0.05             11.6  \n4           0.8                    0.00              1.3  ",
      "text/html": "<div>\n<style scoped>\n    .dataframe tbody tr th:only-of-type {\n        vertical-align: middle;\n    }\n\n    .dataframe tbody tr th {\n        vertical-align: top;\n    }\n\n    .dataframe thead th {\n        text-align: right;\n    }\n</style>\n<table border=\"1\" class=\"dataframe\">\n  <thead>\n    <tr style=\"text-align: right;\">\n      <th></th>\n      <th>barcode</th>\n      <th>group</th>\n      <th>pantry_ingredient</th>\n      <th>product_name</th>\n      <th>quantity</th>\n      <th>brands</th>\n      <th>completeness</th>\n      <th>nutriscore_grade</th>\n      <th>level_fat</th>\n      <th>level_salt</th>\n      <th>level_saturated_fat</th>\n      <th>level_sugars</th>\n      <th>per_100g_carbohydrates</th>\n      <th>per_100g_energy_kcal</th>\n      <th>per_100g_fat</th>\n      <th>per_100g_fiber</th>\n      <th>per_100g_proteins</th>\n      <th>per_100g_salt</th>\n      <th>per_100g_saturated_fat</th>\n      <th>per_100g_sugars</th>\n    </tr>\n  </thead>\n  <tbody>\n    <tr>\n      <th>0</th>\n      <td>4046700003756</td>\n      <td>Dairy products</td>\n      <td>15% fat cream</td>\n      <td>LAC Kochsahne</td>\n      <td>200 g</td>\n      <td>LAC</td>\n      <td>0.6875</td>\n      <td>d</td>\n      <td>moderate</td>\n      <td>low</td>\n      <td>high</td>\n      <td>low</td>\n      <td>4.1</td>\n      <td>163.0</td>\n      <td>15.0</td>\n      <td>0.0</td>\n      <td>2.9</td>\n      <td>0.11</td>\n      <td>9.40</td>\n      <td>4.1</td>\n    </tr>\n    <tr>\n      <th>1</th>\n      <td>4046700004234</td>\n      <td>Dairy products</td>\n      <td>30% fat cream</td>\n      <td>Schlagsahne</td>\n      <td>200 g</td>\n      <td>LAC</td>\n      <td>0.775</td>\n      <td>d</td>\n      <td>high</td>\n      <td>low</td>\n      <td>high</td>\n      <td>low</td>\n      <td>3.3</td>\n      <td>311.0</td>\n      <td>32.0</td>\n      <td>0.0</td>\n      <td>2.4</td>\n      <td>0.08</td>\n      <td>20.20</td>\n      <td>3.3</td>\n    </tr>\n    <tr>\n      <th>2</th>\n      <td>4008100120341</td>\n      <td>Sauces</td>\n      <td>apple cider vinegar</td>\n      <td>Bio Apfelessig</td>\n      <td>500ml</td>\n      <td>Hengstenberg</td>\n      <td>0.775</td>\n      <td>NaN</td>\n      <td>low</td>\n      <td>low</td>\n      <td>low</td>\n      <td>low</td>\n      <td>0.7</td>\n      <td>19.0</td>\n      <td>0.0</td>\n      <td>0.0</td>\n      <td>0.0</td>\n      <td>0</td>\n      <td>0.00</td>\n      <td>0.0</td>\n    </tr>\n    <tr>\n      <th>3</th>\n      <td>4311501711699</td>\n      <td>Canned</td>\n      <td>applesauce</td>\n      <td>Apfelmus</td>\n      <td>360g</td>\n      <td>Edeka</td>\n      <td>0.6875</td>\n      <td>a</td>\n      <td>low</td>\n      <td>low</td>\n      <td>low</td>\n      <td>moderate</td>\n      <td>12.5</td>\n      <td>57.0</td>\n      <td>0.1</td>\n      <td>0.0</td>\n      <td>0.3</td>\n      <td>0.01</td>\n      <td>0.05</td>\n      <td>11.6</td>\n    </tr>\n    <tr>\n      <th>4</th>\n      <td>4311501356517</td>\n      <td>Canned</td>\n      <td>artichoke hearts</td>\n      <td>Artischocken Herzen</td>\n      <td>240 g</td>\n      <td>Edeka</td>\n      <td>0.6875</td>\n      <td>a</td>\n      <td>low</td>\n      <td>moderate</td>\n      <td>low</td>\n      <td>low</td>\n      <td>4.0</td>\n      <td>27.0</td>\n      <td>0.0</td>\n      <td>0.0</td>\n      <td>1.4</td>\n      <td>0.8</td>\n      <td>0.00</td>\n      <td>1.3</td>\n    </tr>\n  </tbody>\n</table>\n</div>"
     },
     "execution_count": 2,
     "metadata": {},
     "output_type": "execute_result"
    }
   ],
   "source": [
    "nutri_df = get_nutrition_data()\n",
    "nutri_df.head()"
   ],
   "metadata": {
    "collapsed": false
   }
  },
  {
   "cell_type": "code",
   "execution_count": 3,
   "outputs": [],
   "source": [
    "# https://www.omnicalculator.com/conversion/grams-to-calories#grams-to-calories-conversion\n",
    "kcal_per100g_carbohydrates = 4\n",
    "kcal_per100g_fat = 9\n",
    "kcal_per100g_proteins = 4\n",
    "kcal_per_100g_fiber = 1.7  # assumption, average"
   ],
   "metadata": {
    "collapsed": false
   }
  },
  {
   "cell_type": "code",
   "execution_count": 4,
   "outputs": [
    {
     "data": {
      "text/plain": "Empty DataFrame\nColumns: [barcode, group, pantry_ingredient, product_name, quantity, brands, completeness, nutriscore_grade, level_fat, level_salt, level_saturated_fat, level_sugars, per_100g_carbohydrates, per_100g_energy_kcal, per_100g_fat, per_100g_fiber, per_100g_proteins, per_100g_salt, per_100g_saturated_fat, per_100g_sugars]\nIndex: []",
      "text/html": "<div>\n<style scoped>\n    .dataframe tbody tr th:only-of-type {\n        vertical-align: middle;\n    }\n\n    .dataframe tbody tr th {\n        vertical-align: top;\n    }\n\n    .dataframe thead th {\n        text-align: right;\n    }\n</style>\n<table border=\"1\" class=\"dataframe\">\n  <thead>\n    <tr style=\"text-align: right;\">\n      <th></th>\n      <th>barcode</th>\n      <th>group</th>\n      <th>pantry_ingredient</th>\n      <th>product_name</th>\n      <th>quantity</th>\n      <th>brands</th>\n      <th>completeness</th>\n      <th>nutriscore_grade</th>\n      <th>level_fat</th>\n      <th>level_salt</th>\n      <th>level_saturated_fat</th>\n      <th>level_sugars</th>\n      <th>per_100g_carbohydrates</th>\n      <th>per_100g_energy_kcal</th>\n      <th>per_100g_fat</th>\n      <th>per_100g_fiber</th>\n      <th>per_100g_proteins</th>\n      <th>per_100g_salt</th>\n      <th>per_100g_saturated_fat</th>\n      <th>per_100g_sugars</th>\n    </tr>\n  </thead>\n  <tbody>\n  </tbody>\n</table>\n</div>"
     },
     "execution_count": 4,
     "metadata": {},
     "output_type": "execute_result"
    }
   ],
   "source": [
    "nutri_df[nutri_df[\"per_100g_saturated_fat\"] > nutri_df[\"per_100g_fat\"]]"
   ],
   "metadata": {
    "collapsed": false
   }
  },
  {
   "cell_type": "code",
   "execution_count": 5,
   "outputs": [
    {
     "data": {
      "text/plain": "Empty DataFrame\nColumns: [barcode, group, pantry_ingredient, product_name, quantity, brands, completeness, nutriscore_grade, level_fat, level_salt, level_saturated_fat, level_sugars, per_100g_carbohydrates, per_100g_energy_kcal, per_100g_fat, per_100g_fiber, per_100g_proteins, per_100g_salt, per_100g_saturated_fat, per_100g_sugars]\nIndex: []",
      "text/html": "<div>\n<style scoped>\n    .dataframe tbody tr th:only-of-type {\n        vertical-align: middle;\n    }\n\n    .dataframe tbody tr th {\n        vertical-align: top;\n    }\n\n    .dataframe thead th {\n        text-align: right;\n    }\n</style>\n<table border=\"1\" class=\"dataframe\">\n  <thead>\n    <tr style=\"text-align: right;\">\n      <th></th>\n      <th>barcode</th>\n      <th>group</th>\n      <th>pantry_ingredient</th>\n      <th>product_name</th>\n      <th>quantity</th>\n      <th>brands</th>\n      <th>completeness</th>\n      <th>nutriscore_grade</th>\n      <th>level_fat</th>\n      <th>level_salt</th>\n      <th>level_saturated_fat</th>\n      <th>level_sugars</th>\n      <th>per_100g_carbohydrates</th>\n      <th>per_100g_energy_kcal</th>\n      <th>per_100g_fat</th>\n      <th>per_100g_fiber</th>\n      <th>per_100g_proteins</th>\n      <th>per_100g_salt</th>\n      <th>per_100g_saturated_fat</th>\n      <th>per_100g_sugars</th>\n    </tr>\n  </thead>\n  <tbody>\n  </tbody>\n</table>\n</div>"
     },
     "execution_count": 5,
     "metadata": {},
     "output_type": "execute_result"
    }
   ],
   "source": [
    "nutri_df[nutri_df[\"per_100g_sugars\"] > nutri_df[\"per_100g_carbohydrates\"]]"
   ],
   "metadata": {
    "collapsed": false
   }
  },
  {
   "cell_type": "code",
   "execution_count": 6,
   "outputs": [],
   "source": [
    "nutri_df[\"calc_per_100g_energy_kcal\"] = (\n",
    "    nutri_df[\"per_100g_carbohydrates\"] * kcal_per100g_carbohydrates\n",
    "    + nutri_df[\"per_100g_fat\"] * kcal_per100g_fat\n",
    "    + nutri_df[\"per_100g_proteins\"] * kcal_per100g_proteins\n",
    "    + nutri_df[\"per_100g_fiber\"] * kcal_per_100g_fiber\n",
    ")"
   ],
   "metadata": {
    "collapsed": false
   }
  },
  {
   "cell_type": "code",
   "execution_count": 7,
   "outputs": [],
   "source": [
    "# should double-check anything that differs more than e.g. 10 kCal\n",
    "nutri_df[\"calc_diff_energy_kcal\"] = (\n",
    "    nutri_df[\"per_100g_energy_kcal\"] - nutri_df[\"calc_per_100g_energy_kcal\"]\n",
    ")"
   ],
   "metadata": {
    "collapsed": false
   }
  },
  {
   "cell_type": "code",
   "execution_count": 8,
   "outputs": [],
   "source": [
    "# profile = ProfileReport(nutri_df, title=\"Nutrition DF Profile\")\n",
    "# profile.to_file(\"nutrition_df_profile.html\")"
   ],
   "metadata": {
    "collapsed": false
   }
  },
  {
   "cell_type": "code",
   "execution_count": 9,
   "outputs": [
    {
     "data": {
      "text/plain": "                  barcode  pantry_ingredient  product_name  quantity  brands  \\\ngroup                                                                          \nBaking                 12                 12            12        12      12   \nBeverages               2                  2             2         2       2   \nCanned                 13                 13            13        13      13   \nDairy products         23                 23            23        23      23   \nFats and oils           4                  4             4         4       4   \nFish                    2                  2             2         2       2   \nFrozen goods           16                 16            16        16      16   \nFruits                  1                  1             1         1       1   \nGrains                  6                  6             6         6       6   \nJuices                  5                  5             5         5       5   \nMeats                   7                  7             7         7       7   \nNuts and seeds          8                  8             8         8       8   \nPasta                   4                  4             4         4       4   \nPrepared               13                 13            13        13      13   \nSauces                 19                 19            19        19      19   \nSpices and herbs        4                  4             4         4       4   \nVegetables              2                  2             2         2       2   \n\n                  completeness  nutriscore_grade  level_fat  level_salt  \\\ngroup                                                                     \nBaking                      12                12         12          12   \nBeverages                    2                 2          2           2   \nCanned                      13                13         13          13   \nDairy products              23                23         23          23   \nFats and oils                4                 4          4           4   \nFish                         2                 2          2           2   \nFrozen goods                16                16         16          16   \nFruits                       1                 1          1           1   \nGrains                       6                 6          6           6   \nJuices                       5                 5          5           5   \nMeats                        7                 7          7           7   \nNuts and seeds               8                 8          8           8   \nPasta                        4                 4          4           4   \nPrepared                    13                13         13          13   \nSauces                      19                19         19          19   \nSpices and herbs             4                 4          4           4   \nVegetables                   2                 2          2           2   \n\n                  level_saturated_fat  ...  per_100g_carbohydrates  \\\ngroup                                  ...                           \nBaking                             12  ...                      12   \nBeverages                           2  ...                       2   \nCanned                             13  ...                      13   \nDairy products                     23  ...                      23   \nFats and oils                       4  ...                       4   \nFish                                2  ...                       2   \nFrozen goods                       16  ...                      16   \nFruits                              1  ...                       1   \nGrains                              6  ...                       6   \nJuices                              5  ...                       5   \nMeats                               7  ...                       7   \nNuts and seeds                      8  ...                       8   \nPasta                               4  ...                       4   \nPrepared                           13  ...                      13   \nSauces                             19  ...                      19   \nSpices and herbs                    4  ...                       4   \nVegetables                          2  ...                       2   \n\n                  per_100g_energy_kcal  per_100g_fat  per_100g_fiber  \\\ngroup                                                                  \nBaking                              12            12              12   \nBeverages                            2             2               2   \nCanned                              13            13              13   \nDairy products                      23            23              23   \nFats and oils                        4             4               4   \nFish                                 2             2               2   \nFrozen goods                        16            16              16   \nFruits                               1             1               1   \nGrains                               6             6               6   \nJuices                               5             5               5   \nMeats                                7             7               7   \nNuts and seeds                       8             8               8   \nPasta                                4             4               4   \nPrepared                            13            13              13   \nSauces                              19            19              19   \nSpices and herbs                     4             4               4   \nVegetables                           2             2               2   \n\n                  per_100g_proteins  per_100g_salt  per_100g_saturated_fat  \\\ngroup                                                                        \nBaking                           12             12                      12   \nBeverages                         2              2                       2   \nCanned                           13             13                      13   \nDairy products                   23             23                      23   \nFats and oils                     4              4                       4   \nFish                              2              2                       2   \nFrozen goods                     16             16                      16   \nFruits                            1              1                       1   \nGrains                            6              6                       6   \nJuices                            5              5                       5   \nMeats                             7              7                       7   \nNuts and seeds                    8              8                       8   \nPasta                             4              4                       4   \nPrepared                         13             13                      13   \nSauces                           19             19                      19   \nSpices and herbs                  4              4                       4   \nVegetables                        2              2                       2   \n\n                  per_100g_sugars  calc_per_100g_energy_kcal  \\\ngroup                                                          \nBaking                         12                         12   \nBeverages                       2                          2   \nCanned                         13                         13   \nDairy products                 23                         23   \nFats and oils                   4                          4   \nFish                            2                          2   \nFrozen goods                   16                         16   \nFruits                          1                          1   \nGrains                          6                          6   \nJuices                          5                          5   \nMeats                           7                          7   \nNuts and seeds                  8                          8   \nPasta                           4                          4   \nPrepared                       13                         13   \nSauces                         19                         19   \nSpices and herbs                4                          4   \nVegetables                      2                          2   \n\n                  calc_diff_energy_kcal  \ngroup                                    \nBaking                               12  \nBeverages                             2  \nCanned                               13  \nDairy products                       23  \nFats and oils                         4  \nFish                                  2  \nFrozen goods                         16  \nFruits                                1  \nGrains                                6  \nJuices                                5  \nMeats                                 7  \nNuts and seeds                        8  \nPasta                                 4  \nPrepared                             13  \nSauces                               19  \nSpices and herbs                      4  \nVegetables                            2  \n\n[17 rows x 21 columns]",
      "text/html": "<div>\n<style scoped>\n    .dataframe tbody tr th:only-of-type {\n        vertical-align: middle;\n    }\n\n    .dataframe tbody tr th {\n        vertical-align: top;\n    }\n\n    .dataframe thead th {\n        text-align: right;\n    }\n</style>\n<table border=\"1\" class=\"dataframe\">\n  <thead>\n    <tr style=\"text-align: right;\">\n      <th></th>\n      <th>barcode</th>\n      <th>pantry_ingredient</th>\n      <th>product_name</th>\n      <th>quantity</th>\n      <th>brands</th>\n      <th>completeness</th>\n      <th>nutriscore_grade</th>\n      <th>level_fat</th>\n      <th>level_salt</th>\n      <th>level_saturated_fat</th>\n      <th>...</th>\n      <th>per_100g_carbohydrates</th>\n      <th>per_100g_energy_kcal</th>\n      <th>per_100g_fat</th>\n      <th>per_100g_fiber</th>\n      <th>per_100g_proteins</th>\n      <th>per_100g_salt</th>\n      <th>per_100g_saturated_fat</th>\n      <th>per_100g_sugars</th>\n      <th>calc_per_100g_energy_kcal</th>\n      <th>calc_diff_energy_kcal</th>\n    </tr>\n    <tr>\n      <th>group</th>\n      <th></th>\n      <th></th>\n      <th></th>\n      <th></th>\n      <th></th>\n      <th></th>\n      <th></th>\n      <th></th>\n      <th></th>\n      <th></th>\n      <th></th>\n      <th></th>\n      <th></th>\n      <th></th>\n      <th></th>\n      <th></th>\n      <th></th>\n      <th></th>\n      <th></th>\n      <th></th>\n      <th></th>\n    </tr>\n  </thead>\n  <tbody>\n    <tr>\n      <th>Baking</th>\n      <td>12</td>\n      <td>12</td>\n      <td>12</td>\n      <td>12</td>\n      <td>12</td>\n      <td>12</td>\n      <td>12</td>\n      <td>12</td>\n      <td>12</td>\n      <td>12</td>\n      <td>...</td>\n      <td>12</td>\n      <td>12</td>\n      <td>12</td>\n      <td>12</td>\n      <td>12</td>\n      <td>12</td>\n      <td>12</td>\n      <td>12</td>\n      <td>12</td>\n      <td>12</td>\n    </tr>\n    <tr>\n      <th>Beverages</th>\n      <td>2</td>\n      <td>2</td>\n      <td>2</td>\n      <td>2</td>\n      <td>2</td>\n      <td>2</td>\n      <td>2</td>\n      <td>2</td>\n      <td>2</td>\n      <td>2</td>\n      <td>...</td>\n      <td>2</td>\n      <td>2</td>\n      <td>2</td>\n      <td>2</td>\n      <td>2</td>\n      <td>2</td>\n      <td>2</td>\n      <td>2</td>\n      <td>2</td>\n      <td>2</td>\n    </tr>\n    <tr>\n      <th>Canned</th>\n      <td>13</td>\n      <td>13</td>\n      <td>13</td>\n      <td>13</td>\n      <td>13</td>\n      <td>13</td>\n      <td>13</td>\n      <td>13</td>\n      <td>13</td>\n      <td>13</td>\n      <td>...</td>\n      <td>13</td>\n      <td>13</td>\n      <td>13</td>\n      <td>13</td>\n      <td>13</td>\n      <td>13</td>\n      <td>13</td>\n      <td>13</td>\n      <td>13</td>\n      <td>13</td>\n    </tr>\n    <tr>\n      <th>Dairy products</th>\n      <td>23</td>\n      <td>23</td>\n      <td>23</td>\n      <td>23</td>\n      <td>23</td>\n      <td>23</td>\n      <td>23</td>\n      <td>23</td>\n      <td>23</td>\n      <td>23</td>\n      <td>...</td>\n      <td>23</td>\n      <td>23</td>\n      <td>23</td>\n      <td>23</td>\n      <td>23</td>\n      <td>23</td>\n      <td>23</td>\n      <td>23</td>\n      <td>23</td>\n      <td>23</td>\n    </tr>\n    <tr>\n      <th>Fats and oils</th>\n      <td>4</td>\n      <td>4</td>\n      <td>4</td>\n      <td>4</td>\n      <td>4</td>\n      <td>4</td>\n      <td>4</td>\n      <td>4</td>\n      <td>4</td>\n      <td>4</td>\n      <td>...</td>\n      <td>4</td>\n      <td>4</td>\n      <td>4</td>\n      <td>4</td>\n      <td>4</td>\n      <td>4</td>\n      <td>4</td>\n      <td>4</td>\n      <td>4</td>\n      <td>4</td>\n    </tr>\n    <tr>\n      <th>Fish</th>\n      <td>2</td>\n      <td>2</td>\n      <td>2</td>\n      <td>2</td>\n      <td>2</td>\n      <td>2</td>\n      <td>2</td>\n      <td>2</td>\n      <td>2</td>\n      <td>2</td>\n      <td>...</td>\n      <td>2</td>\n      <td>2</td>\n      <td>2</td>\n      <td>2</td>\n      <td>2</td>\n      <td>2</td>\n      <td>2</td>\n      <td>2</td>\n      <td>2</td>\n      <td>2</td>\n    </tr>\n    <tr>\n      <th>Frozen goods</th>\n      <td>16</td>\n      <td>16</td>\n      <td>16</td>\n      <td>16</td>\n      <td>16</td>\n      <td>16</td>\n      <td>16</td>\n      <td>16</td>\n      <td>16</td>\n      <td>16</td>\n      <td>...</td>\n      <td>16</td>\n      <td>16</td>\n      <td>16</td>\n      <td>16</td>\n      <td>16</td>\n      <td>16</td>\n      <td>16</td>\n      <td>16</td>\n      <td>16</td>\n      <td>16</td>\n    </tr>\n    <tr>\n      <th>Fruits</th>\n      <td>1</td>\n      <td>1</td>\n      <td>1</td>\n      <td>1</td>\n      <td>1</td>\n      <td>1</td>\n      <td>1</td>\n      <td>1</td>\n      <td>1</td>\n      <td>1</td>\n      <td>...</td>\n      <td>1</td>\n      <td>1</td>\n      <td>1</td>\n      <td>1</td>\n      <td>1</td>\n      <td>1</td>\n      <td>1</td>\n      <td>1</td>\n      <td>1</td>\n      <td>1</td>\n    </tr>\n    <tr>\n      <th>Grains</th>\n      <td>6</td>\n      <td>6</td>\n      <td>6</td>\n      <td>6</td>\n      <td>6</td>\n      <td>6</td>\n      <td>6</td>\n      <td>6</td>\n      <td>6</td>\n      <td>6</td>\n      <td>...</td>\n      <td>6</td>\n      <td>6</td>\n      <td>6</td>\n      <td>6</td>\n      <td>6</td>\n      <td>6</td>\n      <td>6</td>\n      <td>6</td>\n      <td>6</td>\n      <td>6</td>\n    </tr>\n    <tr>\n      <th>Juices</th>\n      <td>5</td>\n      <td>5</td>\n      <td>5</td>\n      <td>5</td>\n      <td>5</td>\n      <td>5</td>\n      <td>5</td>\n      <td>5</td>\n      <td>5</td>\n      <td>5</td>\n      <td>...</td>\n      <td>5</td>\n      <td>5</td>\n      <td>5</td>\n      <td>5</td>\n      <td>5</td>\n      <td>5</td>\n      <td>5</td>\n      <td>5</td>\n      <td>5</td>\n      <td>5</td>\n    </tr>\n    <tr>\n      <th>Meats</th>\n      <td>7</td>\n      <td>7</td>\n      <td>7</td>\n      <td>7</td>\n      <td>7</td>\n      <td>7</td>\n      <td>7</td>\n      <td>7</td>\n      <td>7</td>\n      <td>7</td>\n      <td>...</td>\n      <td>7</td>\n      <td>7</td>\n      <td>7</td>\n      <td>7</td>\n      <td>7</td>\n      <td>7</td>\n      <td>7</td>\n      <td>7</td>\n      <td>7</td>\n      <td>7</td>\n    </tr>\n    <tr>\n      <th>Nuts and seeds</th>\n      <td>8</td>\n      <td>8</td>\n      <td>8</td>\n      <td>8</td>\n      <td>8</td>\n      <td>8</td>\n      <td>8</td>\n      <td>8</td>\n      <td>8</td>\n      <td>8</td>\n      <td>...</td>\n      <td>8</td>\n      <td>8</td>\n      <td>8</td>\n      <td>8</td>\n      <td>8</td>\n      <td>8</td>\n      <td>8</td>\n      <td>8</td>\n      <td>8</td>\n      <td>8</td>\n    </tr>\n    <tr>\n      <th>Pasta</th>\n      <td>4</td>\n      <td>4</td>\n      <td>4</td>\n      <td>4</td>\n      <td>4</td>\n      <td>4</td>\n      <td>4</td>\n      <td>4</td>\n      <td>4</td>\n      <td>4</td>\n      <td>...</td>\n      <td>4</td>\n      <td>4</td>\n      <td>4</td>\n      <td>4</td>\n      <td>4</td>\n      <td>4</td>\n      <td>4</td>\n      <td>4</td>\n      <td>4</td>\n      <td>4</td>\n    </tr>\n    <tr>\n      <th>Prepared</th>\n      <td>13</td>\n      <td>13</td>\n      <td>13</td>\n      <td>13</td>\n      <td>13</td>\n      <td>13</td>\n      <td>13</td>\n      <td>13</td>\n      <td>13</td>\n      <td>13</td>\n      <td>...</td>\n      <td>13</td>\n      <td>13</td>\n      <td>13</td>\n      <td>13</td>\n      <td>13</td>\n      <td>13</td>\n      <td>13</td>\n      <td>13</td>\n      <td>13</td>\n      <td>13</td>\n    </tr>\n    <tr>\n      <th>Sauces</th>\n      <td>19</td>\n      <td>19</td>\n      <td>19</td>\n      <td>19</td>\n      <td>19</td>\n      <td>19</td>\n      <td>19</td>\n      <td>19</td>\n      <td>19</td>\n      <td>19</td>\n      <td>...</td>\n      <td>19</td>\n      <td>19</td>\n      <td>19</td>\n      <td>19</td>\n      <td>19</td>\n      <td>19</td>\n      <td>19</td>\n      <td>19</td>\n      <td>19</td>\n      <td>19</td>\n    </tr>\n    <tr>\n      <th>Spices and herbs</th>\n      <td>4</td>\n      <td>4</td>\n      <td>4</td>\n      <td>4</td>\n      <td>4</td>\n      <td>4</td>\n      <td>4</td>\n      <td>4</td>\n      <td>4</td>\n      <td>4</td>\n      <td>...</td>\n      <td>4</td>\n      <td>4</td>\n      <td>4</td>\n      <td>4</td>\n      <td>4</td>\n      <td>4</td>\n      <td>4</td>\n      <td>4</td>\n      <td>4</td>\n      <td>4</td>\n    </tr>\n    <tr>\n      <th>Vegetables</th>\n      <td>2</td>\n      <td>2</td>\n      <td>2</td>\n      <td>2</td>\n      <td>2</td>\n      <td>2</td>\n      <td>2</td>\n      <td>2</td>\n      <td>2</td>\n      <td>2</td>\n      <td>...</td>\n      <td>2</td>\n      <td>2</td>\n      <td>2</td>\n      <td>2</td>\n      <td>2</td>\n      <td>2</td>\n      <td>2</td>\n      <td>2</td>\n      <td>2</td>\n      <td>2</td>\n    </tr>\n  </tbody>\n</table>\n<p>17 rows × 21 columns</p>\n</div>"
     },
     "execution_count": 9,
     "metadata": {},
     "output_type": "execute_result"
    }
   ],
   "source": [
    "nutri_df.groupby(\"group\").count()"
   ],
   "metadata": {
    "collapsed": false
   }
  },
  {
   "cell_type": "code",
   "execution_count": 10,
   "outputs": [],
   "source": [
    "nutri_df[\"rel_diff_energy_kcal\"] = (\n",
    "    nutri_df[\"calc_diff_energy_kcal\"] / nutri_df[\"per_100g_energy_kcal\"]\n",
    ")"
   ],
   "metadata": {
    "collapsed": false
   }
  },
  {
   "cell_type": "code",
   "execution_count": 11,
   "outputs": [
    {
     "data": {
      "text/plain": "        pantry_ingredient           group  rel_diff_energy_kcal  \\\n0           15% fat cream  Dairy products              0.000000   \n1           30% fat cream  Dairy products              0.000643   \n2     apple cider vinegar          Sauces              0.852632   \n3              applesauce          Canned              0.085965   \n4        artichoke hearts          Canned              0.200000   \n..                    ...             ...                   ...   \n136             wild rice          Grains              0.001020   \n137  worcestershire sauce          Sauces              0.064943   \n138           xanthan gum          Baking              0.110219   \n139                yogurt  Dairy products              0.003226   \n140              zucchini      Vegetables             -0.030476   \n\n     per_100g_energy_kcal  \n0                   163.0  \n1                   311.0  \n2                    19.0  \n3                    57.0  \n4                    27.0  \n..                    ...  \n136                 353.0  \n137                  87.0  \n138                 183.0  \n139                  62.0  \n140                  21.0  \n\n[141 rows x 4 columns]",
      "text/html": "<div>\n<style scoped>\n    .dataframe tbody tr th:only-of-type {\n        vertical-align: middle;\n    }\n\n    .dataframe tbody tr th {\n        vertical-align: top;\n    }\n\n    .dataframe thead th {\n        text-align: right;\n    }\n</style>\n<table border=\"1\" class=\"dataframe\">\n  <thead>\n    <tr style=\"text-align: right;\">\n      <th></th>\n      <th>pantry_ingredient</th>\n      <th>group</th>\n      <th>rel_diff_energy_kcal</th>\n      <th>per_100g_energy_kcal</th>\n    </tr>\n  </thead>\n  <tbody>\n    <tr>\n      <th>0</th>\n      <td>15% fat cream</td>\n      <td>Dairy products</td>\n      <td>0.000000</td>\n      <td>163.0</td>\n    </tr>\n    <tr>\n      <th>1</th>\n      <td>30% fat cream</td>\n      <td>Dairy products</td>\n      <td>0.000643</td>\n      <td>311.0</td>\n    </tr>\n    <tr>\n      <th>2</th>\n      <td>apple cider vinegar</td>\n      <td>Sauces</td>\n      <td>0.852632</td>\n      <td>19.0</td>\n    </tr>\n    <tr>\n      <th>3</th>\n      <td>applesauce</td>\n      <td>Canned</td>\n      <td>0.085965</td>\n      <td>57.0</td>\n    </tr>\n    <tr>\n      <th>4</th>\n      <td>artichoke hearts</td>\n      <td>Canned</td>\n      <td>0.200000</td>\n      <td>27.0</td>\n    </tr>\n    <tr>\n      <th>...</th>\n      <td>...</td>\n      <td>...</td>\n      <td>...</td>\n      <td>...</td>\n    </tr>\n    <tr>\n      <th>136</th>\n      <td>wild rice</td>\n      <td>Grains</td>\n      <td>0.001020</td>\n      <td>353.0</td>\n    </tr>\n    <tr>\n      <th>137</th>\n      <td>worcestershire sauce</td>\n      <td>Sauces</td>\n      <td>0.064943</td>\n      <td>87.0</td>\n    </tr>\n    <tr>\n      <th>138</th>\n      <td>xanthan gum</td>\n      <td>Baking</td>\n      <td>0.110219</td>\n      <td>183.0</td>\n    </tr>\n    <tr>\n      <th>139</th>\n      <td>yogurt</td>\n      <td>Dairy products</td>\n      <td>0.003226</td>\n      <td>62.0</td>\n    </tr>\n    <tr>\n      <th>140</th>\n      <td>zucchini</td>\n      <td>Vegetables</td>\n      <td>-0.030476</td>\n      <td>21.0</td>\n    </tr>\n  </tbody>\n</table>\n<p>141 rows × 4 columns</p>\n</div>"
     },
     "execution_count": 11,
     "metadata": {},
     "output_type": "execute_result"
    }
   ],
   "source": [
    "nutri_df[\n",
    "    [\n",
    "        \"pantry_ingredient\",\n",
    "        \"group\",\n",
    "        \"rel_diff_energy_kcal\",\n",
    "        \"per_100g_energy_kcal\",\n",
    "    ]\n",
    "]\n"
   ],
   "metadata": {
    "collapsed": false
   }
  },
  {
   "cell_type": "code",
   "execution_count": 12,
   "outputs": [
    {
     "data": {
      "text/plain": "          barcode         group pantry_ingredient  product_name quantity  \\\n47  4311501494103  Frozen goods       frozen peas  Junge Erbsen     100g   \n\n   brands completeness nutriscore_grade level_fat level_salt  ...  \\\n47  Edeka       0.9875                a       low        low  ...   \n\n   per_100g_energy_kcal per_100g_fat  per_100g_fiber  per_100g_proteins  \\\n47                 71.0          0.8             5.0                5.9   \n\n    per_100g_salt  per_100g_saturated_fat  per_100g_sugars  \\\n47           0.01                     0.2              4.3   \n\n   calc_per_100g_energy_kcal  calc_diff_energy_kcal  rel_diff_energy_kcal  \n47                      79.7                   -8.7             -0.122535  \n\n[1 rows x 23 columns]",
      "text/html": "<div>\n<style scoped>\n    .dataframe tbody tr th:only-of-type {\n        vertical-align: middle;\n    }\n\n    .dataframe tbody tr th {\n        vertical-align: top;\n    }\n\n    .dataframe thead th {\n        text-align: right;\n    }\n</style>\n<table border=\"1\" class=\"dataframe\">\n  <thead>\n    <tr style=\"text-align: right;\">\n      <th></th>\n      <th>barcode</th>\n      <th>group</th>\n      <th>pantry_ingredient</th>\n      <th>product_name</th>\n      <th>quantity</th>\n      <th>brands</th>\n      <th>completeness</th>\n      <th>nutriscore_grade</th>\n      <th>level_fat</th>\n      <th>level_salt</th>\n      <th>...</th>\n      <th>per_100g_energy_kcal</th>\n      <th>per_100g_fat</th>\n      <th>per_100g_fiber</th>\n      <th>per_100g_proteins</th>\n      <th>per_100g_salt</th>\n      <th>per_100g_saturated_fat</th>\n      <th>per_100g_sugars</th>\n      <th>calc_per_100g_energy_kcal</th>\n      <th>calc_diff_energy_kcal</th>\n      <th>rel_diff_energy_kcal</th>\n    </tr>\n  </thead>\n  <tbody>\n    <tr>\n      <th>47</th>\n      <td>4311501494103</td>\n      <td>Frozen goods</td>\n      <td>frozen peas</td>\n      <td>Junge Erbsen</td>\n      <td>100g</td>\n      <td>Edeka</td>\n      <td>0.9875</td>\n      <td>a</td>\n      <td>low</td>\n      <td>low</td>\n      <td>...</td>\n      <td>71.0</td>\n      <td>0.8</td>\n      <td>5.0</td>\n      <td>5.9</td>\n      <td>0.01</td>\n      <td>0.2</td>\n      <td>4.3</td>\n      <td>79.7</td>\n      <td>-8.7</td>\n      <td>-0.122535</td>\n    </tr>\n  </tbody>\n</table>\n<p>1 rows × 23 columns</p>\n</div>"
     },
     "execution_count": 12,
     "metadata": {},
     "output_type": "execute_result"
    }
   ],
   "source": [
    "nutri_df[nutri_df.pantry_ingredient == \"frozen peas\"]\n"
   ],
   "metadata": {
    "collapsed": false
   }
  },
  {
   "cell_type": "code",
   "execution_count": 12,
   "outputs": [],
   "source": [],
   "metadata": {
    "collapsed": false
   }
  }
 ],
 "metadata": {
  "kernelspec": {
   "display_name": "Python 3",
   "language": "python",
   "name": "python3"
  },
  "language_info": {
   "codemirror_mode": {
    "name": "ipython",
    "version": 3
   },
   "file_extension": ".py",
   "mimetype": "text/x-python",
   "name": "python",
   "nbconvert_exporter": "python",
   "pygments_lexer": "ipython3",
   "version": "3.9.1"
  }
 },
 "nbformat": 4,
 "nbformat_minor": 5
}
